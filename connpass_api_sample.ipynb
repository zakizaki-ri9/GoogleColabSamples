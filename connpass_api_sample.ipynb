{
  "nbformat": 4,
  "nbformat_minor": 0,
  "metadata": {
    "colab": {
      "name": "connpass_api_sample.ipynb",
      "version": "0.3.2",
      "provenance": [],
      "collapsed_sections": [],
      "include_colab_link": true
    },
    "kernelspec": {
      "name": "python3",
      "display_name": "Python 3"
    }
  },
  "cells": [
    {
      "cell_type": "markdown",
      "metadata": {
        "id": "view-in-github",
        "colab_type": "text"
      },
      "source": [
        "[View in Colaboratory](https://colab.research.google.com/github/zakizaki-ri9/GoogleColabSamples/blob/master/connpass_api_sample.ipynb)"
      ]
    },
    {
      "metadata": {
        "id": "-zPQ2EBjmwQl",
        "colab_type": "code",
        "colab": {}
      },
      "cell_type": "code",
      "source": [
        "import requests\n",
        "import json"
      ],
      "execution_count": 0,
      "outputs": []
    },
    {
      "metadata": {
        "id": "83m6poB-mm9-",
        "colab_type": "code",
        "colab": {}
      },
      "cell_type": "code",
      "source": [
        "url = \"https://connpass.com/api/v1/event/?owner_nickname=d_harada\"\n",
        "j = requests.get(url)"
      ],
      "execution_count": 0,
      "outputs": []
    },
    {
      "metadata": {
        "id": "J2G-fvFVm-rJ",
        "colab_type": "code",
        "colab": {}
      },
      "cell_type": "code",
      "source": [
        "data = json.loads(j.text.encode('sjis'))"
      ],
      "execution_count": 0,
      "outputs": []
    },
    {
      "metadata": {
        "id": "HEQMstosnDKR",
        "colab_type": "code",
        "colab": {
          "base_uri": "https://localhost:8080/",
          "height": 55
        },
        "outputId": "860c90f1-f4f5-4cbb-df4b-b7d0a5571baf"
      },
      "cell_type": "code",
      "source": [
        "print(data)"
      ],
      "execution_count": 43,
      "outputs": [
        {
          "output_type": "stream",
          "text": [
            "{'results_returned': 7, 'events': [{'event_url': 'https://rosso.connpass.com/event/93184/', 'event_type': 'participation', 'owner_nickname': 'd_harada', 'series': {'url': 'https://rosso.connpass.com/', 'id': 4018, 'title': '株式会社Rosso'}, 'updated_at': '2018-06-30T13:08:12+09:00', 'lat': None, 'started_at': '2018-07-25T19:30:00+09:00', 'hash_tag': 'PHP7 #Laravel', 'title': '【PHP入門】開発効率向上のためのナレッジ紹介', 'event_id': 93184, 'lon': None, 'waiting': 0, 'limit': 25, 'owner_id': 153587, 'owner_display_name': 'rosso_admin', 'description': '<h1>イベント説明</h1>\\n<p>Webアプリケーションの開発で幅広く使用されているPHPについて、\\n開発効率を向上させるための機能、ツール、FW(フレームワーク)などは様々なものが存在します。</p>\\n<p>本講義では、PHPの開発効率を向上させるための以下の項目についてご紹介します。（一部内容が変更となる場合がございます。）<br>\\n・静的コード解析ツールの説明<br>\\n・PHP7の新機能の説明<br>\\n・PHPUnitの説明<br>\\n・「Laravel」というFWの便利機能の説明</p>\\n<h1>対象</h1>\\n<ul>\\n<li>PHPの基本構文を理解している方。</li>\\n<li>PHPの開発環境を改善したいと考えている方。\\n※PHPUnitや静的コード解析ツールを使いこなしているなど、PHP開発における熟練者の方には物足りない内容の可能性がございますので、あらかじめご了承ください。</li>\\n</ul>\\n<h1>日時</h1>\\n<p>2018年7月25日(水) 19:30~21:00（受付 19:00～）</p>\\n<h1>会場</h1>\\n<p>〒150-0002 東京都渋谷区渋谷1-17-2 ヒューリック渋谷宮下公園ビル10F</p>\\n<p>※JR渋谷駅宮益坂出口より徒歩5分</p>\\n<p>※東京メトロ半蔵門線・副都心線13番出口より徒歩1分</p>\\n<h1>アジェンダ</h1>\\n<table>\\n<thead>\\n<tr>\\n<th align=\"left\">時間</th>\\n<th align=\"left\">内容</th>\\n</tr>\\n</thead>\\n<tbody>\\n<tr>\\n<td align=\"left\">19:00 ~ 19:30</td>\\n<td align=\"left\">受付<br> ※お名刺1枚のご提示をお願いします。</td>\\n</tr>\\n<tr>\\n<td align=\"left\">19:30 ~ 20:15</td>\\n<td align=\"left\">【PHP入門】開発効率向上のためのナレッジ紹介\\u3000<br> システムソリューション事業部技術推進室 TechLead 茂木</td>\\n</tr>\\n<tr>\\n<td align=\"left\">20:15 ~ 20:20</td>\\n<td align=\"left\">会社説明 <br>システムソリューション事業部技術推進室 GenaralManager 原田</td>\\n</tr>\\n<tr>\\n<td align=\"left\">20:20 ~ 21:00</td>\\n<td align=\"left\">懇親会（任意）\\u3000<br>同会場にて引き続き懇親会を行います。軽食とお飲み物を用意しております。</td>\\n</tr>\\n<tr>\\n<td align=\"left\">21:00</td>\\n<td align=\"left\">イベント終了・解散</td>\\n</tr>\\n</tbody>\\n</table>\\n<h1>参加費</h1>\\n<p>無料</p>\\n<h1>申込方法</h1>\\n<p>参加をご希望される方は、Connpassの応募フォームよりお申し込みください。</p>\\n<h1>注意</h1>\\n<ul>\\n<li>お問い合わせやキャンセルはconnpass上でお願いします。</li>\\n<li>プログラムは変更になる可能性がございます。</li>\\n<li>20:00を過ぎますとビルの入館が直接できなくなりますのでその場合は弊社電話番号03-6427-9037までご連絡お願いします。</li>\\n</ul>', 'address': '〒150-0002 東京都渋谷区渋谷1-17-2 ヒューリック渋谷宮下公園ビル10F', 'catch': '', 'accepted': 11, 'ended_at': '2018-07-25T21:00:00+09:00', 'place': '株式会社Rosso'}, {'event_url': 'https://rosso.connpass.com/event/90002/', 'event_type': 'participation', 'owner_nickname': 'd_harada', 'series': {'url': 'https://rosso.connpass.com/', 'id': 4018, 'title': '株式会社Rosso'}, 'updated_at': '2018-05-31T13:54:45+09:00', 'lat': None, 'started_at': '2018-06-29T19:30:00+09:00', 'hash_tag': '機械学習 #python #AI #ML #AWS #Azure', 'title': 'クラウドで実践！機械学習MeetUp! @渋谷 Rosso', 'event_id': 90002, 'lon': None, 'waiting': 0, 'limit': 25, 'owner_id': 153587, 'owner_display_name': 'rosso_admin', 'description': '<h1>イベント説明</h1>\\n<p>AWSとAzureのML（MachineLerning）を使用し機械学習についてデモンストレーションを交えて解説いたします。\\n<br>\\nPython等の言語を使わずに機械学習を勉強したい人向けの講義内容となっています。<br>\\n本講義を通じてクラウドと機械学習の両方を学んでみませんか？</p>\\n<h1>対象</h1>\\n<ul>\\n<li>機械学習に興味があるけど、何から始めたら良いかわからない方</li>\\n<li>Pythonは苦手。。けど機械学習には興味がある方</li>\\n<li>クラウドサービスでどのようにして機械学習を実装させるのか興味がある方</li>\\n</ul>\\n<h1>日時</h1>\\n<p>2018年6月29日(金) 19:30~21:30（受付 19:00～）</p>\\n<h1>会場</h1>\\n<p>〒150-0002 東京都渋谷区渋谷1-17-2 ヒューリック渋谷宮下公園ビル10F</p>\\n<p>※JR渋谷駅宮益坂出口より徒歩5分</p>\\n<p>※東京メトロ半蔵門線・副都心線13番出口より徒歩1分</p>\\n<h1>アジェンダ</h1>\\n<table>\\n<thead>\\n<tr>\\n<th align=\"left\">時間</th>\\n<th align=\"left\">内容</th>\\n</tr>\\n</thead>\\n<tbody>\\n<tr>\\n<td align=\"left\">19:00 ~ 19:30</td>\\n<td align=\"left\">受付<br> ※お名刺1枚のご提示をお願いします。</td>\\n</tr>\\n<tr>\\n<td align=\"left\">19:30 ~ 20:30</td>\\n<td align=\"left\">クラウドで実践！機械学習\\u3000<br> システムソリューション事業部技術推進室 TechLead 小田島</td>\\n</tr>\\n<tr>\\n<td align=\"left\">20:30 ~ 20:35</td>\\n<td align=\"left\">会社説明 <br>システムソリューション事業部技術推進室 GenaralManager 原田</td>\\n</tr>\\n<tr>\\n<td align=\"left\">20:35 ~ 21:30</td>\\n<td align=\"left\">懇親会（任意）\\u3000<br>同会場にて引き続き懇親会を行います。まい泉カツサンドとお飲み物を用意しております。</td>\\n</tr>\\n<tr>\\n<td align=\"left\">21:30</td>\\n<td align=\"left\">イベント終了・解散</td>\\n</tr>\\n</tbody>\\n</table>\\n<h1>参加費</h1>\\n<p>無料</p>\\n<h1>申込方法</h1>\\n<p>参加をご希望される方は、Connpassの応募フォームよりお申し込みください。</p>\\n<h1>注意</h1>\\n<ul>\\n<li>お問い合わせやキャンセルはconnpass上でお願いします。</li>\\n<li>プログラムは変更になる可能性がございます。</li>\\n</ul>', 'address': '〒150-0002 東京都渋谷区渋谷1-17-2 ヒューリック渋谷宮下公園ビル10F', 'catch': '', 'accepted': 16, 'ended_at': '2018-06-29T21:30:00+09:00', 'place': '株式会社Rosso'}, {'event_url': 'https://rosso.connpass.com/event/86890/', 'event_type': 'participation', 'owner_nickname': 'd_harada', 'series': {'url': 'https://rosso.connpass.com/', 'id': 4018, 'title': '株式会社Rosso'}, 'updated_at': '2018-04-30T16:50:08+09:00', 'lat': '35.661392200000', 'started_at': '2018-05-17T19:00:00+09:00', 'hash_tag': 'Azure', 'title': '明日から使えるAzure @渋谷', 'event_id': 86890, 'lon': '139.703323200000', 'waiting': 0, 'limit': 25, 'owner_id': 153587, 'owner_display_name': 'rosso_admin', 'description': '<h1>イベント説明</h1>\\n<p>今日知って、明日には業務で使える！のを目指して昨今のクラウドサービスでシェア率が高い「MicroSoft Azure」の環境構築デモを行います。開始前は「何それ？」と思う方もセミナー終了時には環境構築が可能になります。</p>\\n<p>※2017/10/12に開催したセミナーと同内容ですが一部内容変更しています。</p>\\n<h1>対象</h1>\\n<p>・これからAzureを始めてみたい方または興味のある方</p>\\n<p>・AWSは触ったことあるけどAzure未経験の方</p>\\n<p>・今後クラウドでAzureを検討している人  </p>\\n<p>・インフラエンジニアとしてご就業中の方</p>\\n<h1>日時</h1>\\n<p>2018年5/17(木)19:30~21:30（受付 19:00～）</p>\\n<h1>会場</h1>\\n<p>〒150-0002 東京都渋谷区渋谷1-17-2 ヒューリック渋谷宮下公園ビル10F</p>\\n<p>※JR渋谷駅宮益坂出口より徒歩5分</p>\\n<p>※東京メトロ半蔵門線・副都心線13番出口より徒歩1分</p>\\n<h1>アジェンダ</h1>\\n<table>\\n<thead>\\n<tr>\\n<th align=\"left\">時間</th>\\n<th align=\"left\">内容</th>\\n</tr>\\n</thead>\\n<tbody>\\n<tr>\\n<td align=\"left\">19:00 ~ 19:30</td>\\n<td align=\"left\">受付<br> ※お名刺1枚のご提示お願いします。</td>\\n</tr>\\n<tr>\\n<td align=\"left\">19:30 ~ 20:30</td>\\n<td align=\"left\">明日使えるAzure <br> システムソリューション事業部技術推進室 Tech Lead 小田島</td>\\n</tr>\\n<tr>\\n<td align=\"left\">20:30 ~ 20:35</td>\\n<td align=\"left\">会社説明 <br>常務取締役執行役員 川畑</td>\\n</tr>\\n<tr>\\n<td align=\"left\">20:35 ~ 21:30</td>\\n<td align=\"left\">懇親会（任意）\\u3000<br>同会場にて引き続き懇親会を行います。軽食とお飲み物を用意しております。</td>\\n</tr>\\n<tr>\\n<td align=\"left\">21:30</td>\\n<td align=\"left\">イベント終了・解散</td>\\n</tr>\\n</tbody>\\n</table>\\n<h1>参加費</h1>\\n<p>無料</p>\\n<h1>申込方法</h1>\\n<p>参加をご希望される方は、Connpassの応募フォームよりお申し込みください。</p>\\n<h1>注意</h1>\\n<ul>\\n<li>お問い合わせやキャンセルはconnpass上でお願いします。</li>\\n<li>プログラムは変更になる可能性がございます。</li>\\n</ul>', 'address': '〒150-0002 東京都渋谷区渋谷1-17-2 ヒューリック渋谷宮下公園ビル10F', 'catch': '～ Azure初心者歓迎！環境構築をデモします！ ～', 'accepted': 6, 'ended_at': '2018-05-17T21:30:00+09:00', 'place': '株式会社Rosso'}, {'event_url': 'https://rosso.connpass.com/event/82664/', 'event_type': 'participation', 'owner_nickname': 'd_harada', 'series': {'url': 'https://rosso.connpass.com/', 'id': 4018, 'title': '株式会社Rosso'}, 'updated_at': '2018-04-12T14:50:10+09:00', 'lat': None, 'started_at': '2018-04-20T19:30:00+09:00', 'hash_tag': 'インフラ自動化', 'title': '今からでも間に合う！インフラ自動化超入門！  @渋谷', 'event_id': 82664, 'lon': None, 'waiting': 0, 'limit': 25, 'owner_id': 153587, 'owner_display_name': 'rosso_admin', 'description': '<h1>イベント説明</h1>\\n<p>昨今クラウドが台頭しさらにサービスの導入に拍車がかかっているインフラ自動化技術ですが</p>\\n<ul>\\n<li>自動化を導入することによって何が改善できるのか？</li>\\n<li>自動化で使われる技術はどのようなものがあるのか？</li>\\n<li>インフラを自動化するエンジニアのマインドセットとは？</li>\\n</ul>\\n<p>といった感じで登壇者の経験を交えて<strong>超初心者向け</strong>に紹介をします。<br>\\nこれからインフラ自動化技術を習得しようと考えている方取り残される前に学んでみませんか？</p>\\n<h1>対象</h1>\\n<ul>\\n<li>基本的なインフラ技術を理解している方</li>\\n<li>インフラ自動化の経験がない方</li>\\n<li>インフラ自動化をこれから導入しようとしている方</li>\\n<li>インフラ自動化に興味がある方<br>\\n※インフラ自動化の経験・知識がある方には当たり前すぎて物足りない内容かもしれませんのでご了承ください。</li>\\n</ul>\\n<h1>日時</h1>\\n<p>2018年4/20(金)19:30~21:30（受付 19:00～）</p>\\n<h1>会場</h1>\\n<p>〒150-0002 東京都渋谷区渋谷1-17-2 ヒューリック渋谷宮下公園ビル10F</p>\\n<p>※JR渋谷駅宮益坂出口より徒歩5分</p>\\n<p>※東京メトロ半蔵門線・副都心線13番出口より徒歩1分</p>\\n<h1>アジェンダ</h1>\\n<table>\\n<thead>\\n<tr>\\n<th align=\"left\">時間</th>\\n<th align=\"left\">内容</th>\\n</tr>\\n</thead>\\n<tbody>\\n<tr>\\n<td align=\"left\">19:00 ~ 19:30</td>\\n<td align=\"left\">受付<br> ※お名刺1枚のご提示お願いします。</td>\\n</tr>\\n<tr>\\n<td align=\"left\">19:30 ~ 20:30</td>\\n<td align=\"left\">インフラ自動化超入門\\u3000<br> システムソリューション事業部技術推進室\\u3000General Manager\\u3000原田</td>\\n</tr>\\n<tr>\\n<td align=\"left\">20:30 ~ 20:35</td>\\n<td align=\"left\">会社説明 <br>常務取締役執行役員\\u3000川畑</td>\\n</tr>\\n<tr>\\n<td align=\"left\">20:35 ~ 21:30</td>\\n<td align=\"left\">懇親会（任意）\\u3000<br>同会場にて引き続き懇親会を行います。軽食とお飲み物を用意しております。</td>\\n</tr>\\n<tr>\\n<td align=\"left\">21:30</td>\\n<td align=\"left\">イベント終了・解散</td>\\n</tr>\\n</tbody>\\n</table>\\n<h1>参加費</h1>\\n<p>無料</p>\\n<h1>申込方法</h1>\\n<p>参加をご希望される方は、Connpassの応募フォームよりお申し込みください。</p>\\n<h1>注意</h1>\\n<ul>\\n<li>お問い合わせやキャンセルはconnpass上でお願いします。</li>\\n<li>プログラムは変更になる可能性がございます。</li>\\n</ul>', 'address': '〒150-0002 東京都渋谷区渋谷1-17-2 ヒューリック渋谷宮下公園ビル10F', 'catch': '※3/15に開催したセミナーと同内容になります。', 'accepted': 22, 'ended_at': '2018-04-20T21:30:00+09:00', 'place': '株式会社Rosso'}, {'event_url': 'https://rosso.connpass.com/event/76031/', 'event_type': 'participation', 'owner_nickname': 'd_harada', 'series': {'url': 'https://rosso.connpass.com/', 'id': 4018, 'title': '株式会社Rosso'}, 'updated_at': '2018-02-20T16:52:13+09:00', 'lat': None, 'started_at': '2018-03-15T19:30:00+09:00', 'hash_tag': 'インフラ自動化', 'title': '今からでも間に合う！インフラ自動化超入門！  @渋谷', 'event_id': 76031, 'lon': None, 'waiting': 0, 'limit': 20, 'owner_id': 153587, 'owner_display_name': 'rosso_admin', 'description': '<h1>イベント説明</h1>\\n<p>昨今クラウドが台頭しさらにサービスの導入に拍車がかかっているインフラ自動化技術ですが</p>\\n<ul>\\n<li>自動化を導入することによって何が改善できるのか？</li>\\n<li>自動化で使われる技術はどのようなものがあるのか？</li>\\n<li>インフラを自動化するエンジニアのマインドセットとは？</li>\\n</ul>\\n<p>といった感じで登壇者の経験を交えて<strong>超初心者向け</strong>に紹介をします。<br>\\nこれからインフラ自動化技術を習得しようと考えている方取り残される前に学んでみませんか？</p>\\n<h1>対象</h1>\\n<ul>\\n<li>基本的なインフラ技術を理解している方</li>\\n<li>インフラ自動化の経験がない方</li>\\n<li>インフラ自動化をこれから導入しようとしている方</li>\\n<li>インフラ自動化に興味がある方<br>\\n※インフラ自動化の経験・知識がある方には当たり前すぎて物足りない内容かもしれませんのでご了承ください。</li>\\n</ul>\\n<h1>日時</h1>\\n<p>2018年3月15日(木) 19:30~21:30（受付 19:00～）</p>\\n<h1>会場</h1>\\n<p>〒150-0002 東京都渋谷区渋谷1-17-2 ヒューリック渋谷宮下公園ビル10F</p>\\n<p>※JR渋谷駅宮益坂出口より徒歩5分</p>\\n<p>※東京メトロ半蔵門線・副都心線13番出口より徒歩1分</p>\\n<h1>アジェンダ</h1>\\n<table>\\n<thead>\\n<tr>\\n<th align=\"left\">時間</th>\\n<th align=\"left\">内容</th>\\n</tr>\\n</thead>\\n<tbody>\\n<tr>\\n<td align=\"left\">19:00 ~ 19:30</td>\\n<td align=\"left\">受付<br> ※お名刺1枚のご提示お願いします。</td>\\n</tr>\\n<tr>\\n<td align=\"left\">19:30 ~ 20:30</td>\\n<td align=\"left\">インフラ自動化超入門\\u3000<br> システムソリューション部\\u3000課長\\u3000原田</td>\\n</tr>\\n<tr>\\n<td align=\"left\">20:30 ~ 20:35</td>\\n<td align=\"left\">会社説明 <br>取締役執行役員\\u3000川畑</td>\\n</tr>\\n<tr>\\n<td align=\"left\">20:35 ~ 21:30</td>\\n<td align=\"left\">懇親会（任意）\\u3000<br>同会場にて引き続き懇親会を行います。軽食とお飲み物を用意しております。</td>\\n</tr>\\n<tr>\\n<td align=\"left\">21:30</td>\\n<td align=\"left\">イベント終了・解散</td>\\n</tr>\\n</tbody>\\n</table>\\n<h1>参加費</h1>\\n<p>無料</p>\\n<h1>申込方法</h1>\\n<p>参加をご希望される方は、Connpassの応募フォームよりお申し込みください。</p>\\n<h1>注意</h1>\\n<ul>\\n<li>お問い合わせやキャンセルはconnpass上でお願いします。</li>\\n<li>プログラムは変更になる可能性がございます。</li>\\n</ul>', 'address': '〒150-0002 東京都渋谷区渋谷1-17-2 ヒューリック渋谷宮下公園ビル10F', 'catch': '', 'accepted': 16, 'ended_at': '2018-03-15T21:30:00+09:00', 'place': '株式会社Rosso'}, {'event_url': 'https://rosso.connpass.com/event/67050/', 'event_type': 'participation', 'owner_nickname': 'd_harada', 'series': {'url': 'https://rosso.connpass.com/', 'id': 4018, 'title': '株式会社Rosso'}, 'updated_at': '2017-12-03T22:48:34+09:00', 'lat': '35.661392200000', 'started_at': '2017-10-12T19:00:00+09:00', 'hash_tag': 'Azure', 'title': '明日から使えるAzure', 'event_id': 67050, 'lon': '139.703323200000', 'waiting': 0, 'limit': 10, 'owner_id': 153587, 'owner_display_name': 'rosso_admin', 'description': '<h3>■セミナー概要</h3>\\n<p>今注目されている｢Microsoft Azure｣の基本的な構築方法とリソース概要についての講義をします。\\nテーマは「明日現場で使えるAzure」になります。\\nまた当日は懇親会も予定しておりますのでお時間があるかたはこちらもご参加お願いします。</p>\\n<h3>■対象の方</h3>\\n<p>・これからAzureを始めてみたい方または興味のある方</p>\\n<p>・AWSは触ったことあるけどAzure未経験の方</p>\\n<p>・今後クラウドでAzureを検討している人  </p>\\n<p>・インフラエンジニアとしてご就業中の方</p>\\n<h3>■日時</h3>\\n<p>2017年10月12日（木）19:30～21:30（受付 19:00～）</p>\\n<h3>■場所</h3>\\n<p>〒150-0021 東京都渋谷区恵比寿西2-8-10 ORIX恵比寿西ビル4F</p>\\n<p>※JR恵比寿駅西口 徒歩5分  </p>\\n<p>※東京メトロ日比谷線恵比寿駅2番出口 徒歩4分  </p>\\n<h3>■アジェンダ</h3>\\n<table>\\n<thead>\\n<tr>\\n<th align=\"left\">時間</th>\\n<th align=\"left\">内容</th>\\n</tr>\\n</thead>\\n<tbody>\\n<tr>\\n<td align=\"left\">19:00<br>～<br>19:30</td>\\n<td align=\"left\">受付<br><strong>※お名刺1枚のご提示お願いします。</strong></td>\\n</tr>\\n<tr>\\n<td align=\"left\">19:30<br>～<br>19:35</td>\\n<td align=\"left\">会社説明<br>システムソリューション部 課長 原田 大郷</td>\\n</tr>\\n<tr>\\n<td align=\"left\">19:35 <br>～<br>21:00</td>\\n<td align=\"left\">明日使えるAzure<br>システムソリューション部 小田島 靖<br><br>今日知って、明日には業務で使える！のを目指して昨今のクラウドサービスでシェア率が高い「MicroSoft Azure」の環境構築デモを行います。開始前は「何それ？」と思う方もセミナー終了時には環境構築が可能になります。</td>\\n</tr>\\n<tr>\\n<td align=\"left\">21:00<br>～<br>21:30</td>\\n<td align=\"left\">質疑応答・懇親会<br><strong>同会場にて引き続き懇親会を行います。軽食とお飲み物を用意しております。</strong></td>\\n</tr>\\n</tbody>\\n</table>\\n<h3>■参加費</h3>\\n<p>無料  </p>\\n<h3>■申込方法</h3>\\n<p>参加をご希望される方は、Connpassの応募フォームよりお申し込みください。</p>\\n<p><strong>※お申し込みは開催日の当日までとさせていただきます。 </strong></p>\\n<p><strong>※定員に達し次第、締め切りとさせていただきます。</strong></p>\\n<h3>■当日の連絡先</h3>\\n<p>TEL：03-5459-2197  </p>\\n<h3>■諸注意</h3>\\n<p><strong>※当日以外のお問い合わせやキャンセルはconnpass上でお願い致します。</strong></p>\\n<p><strong>※プログラムは変更になる可能性がございます。</strong></p>', 'address': '〒150-0002 東京都渋谷区渋谷1-17-2 ヒューリック渋谷宮下公園ビル10F', 'catch': '～ Azure初心者歓迎！環境構築をデモします！ ～', 'accepted': 7, 'ended_at': '2017-10-12T21:30:00+09:00', 'place': '株式会社Rosso'}, {'event_url': 'https://rosso.connpass.com/event/71454/', 'event_type': 'participation', 'owner_nickname': 'd_harada', 'series': {'url': 'https://rosso.connpass.com/', 'id': 4018, 'title': '株式会社Rosso'}, 'updated_at': '2017-12-03T22:47:16+09:00', 'lat': None, 'started_at': '2017-12-08T19:30:00+09:00', 'hash_tag': '機械学習 #python #AI', 'title': '機械学習超入門  @渋谷', 'event_id': 71454, 'lon': None, 'waiting': 18, 'limit': 20, 'owner_id': 153587, 'owner_display_name': 'rosso_admin', 'description': '<h1>イベント説明</h1>\\n<p>これから機械学習を勉強し始める人に向け、機械学習とは何か、Pythonでどのように実装するのか、デモンストレーションを交えて紹介をします。\\n<br>\\n<br>\\n昨今、AI・機械学習の技術が飛躍的に進化し、機械学習を使った商品やサービスが注目されています。<br>\\n今までのアプリケーション開発とは何が違い、どんなことができるか？<br>\\n難しくない、すぐにできる機械学習の実装について、この機会に学んでみませんか？</p>\\n<h1>対象</h1>\\n<ul>\\n<li>機械学習やデータサイエンスに興味があるけど、何から始めたら良いかわからない方。</li>\\n<li>Pythonで機械学習を使ったアプリケーション開発に興味のある方。</li>\\n<li>機械学習の完全初心者向けのイベントです。</li>\\n</ul>\\n<h1>日時</h1>\\n<p>2017年12月8日(金) 19:30~21:30（受付 19:00～）</p>\\n<h1>会場</h1>\\n<p>〒150-0002 東京都渋谷区渋谷1-17-2 ヒューリック渋谷宮下公園ビル10F</p>\\n<p>※11/27より上記住所に移転となりますのでご注意ください！</p>\\n<p>※JR渋谷駅宮益坂出口より徒歩5分</p>\\n<p>※東京メトロ半蔵門線・副都心線13番出口より徒歩1分</p>\\n<h1>アジェンダ</h1>\\n<table>\\n<thead>\\n<tr>\\n<th align=\"left\">時間</th>\\n<th align=\"left\">内容</th>\\n</tr>\\n</thead>\\n<tbody>\\n<tr>\\n<td align=\"left\">19:00 ~ 19:30</td>\\n<td align=\"left\">受付</td>\\n</tr>\\n<tr>\\n<td align=\"left\">19:30 ~ 20:30</td>\\n<td align=\"left\">機械学習超入門\\u3000<br> システムソリューション部\\u3000石崎</td>\\n</tr>\\n<tr>\\n<td align=\"left\">20:30 ~ 20:35</td>\\n<td align=\"left\">会社説明 <br>システムソリューション部\\u3000課長\\u3000原田 大郷</td>\\n</tr>\\n<tr>\\n<td align=\"left\">20:35 ~ 21:30</td>\\n<td align=\"left\">懇親会（任意）\\u3000<br>同会場にて引き続き懇親会を行います。軽食とお飲み物を用意しております。</td>\\n</tr>\\n<tr>\\n<td align=\"left\">21:30</td>\\n<td align=\"left\">イベント終了・解散</td>\\n</tr>\\n</tbody>\\n</table>\\n<h1>参加費</h1>\\n<p>無料</p>\\n<h1>申込方法</h1>\\n<p>参加をご希望される方は、Connpassの応募フォームよりお申し込みください。</p>\\n<h1>注意</h1>\\n<ul>\\n<li>お問い合わせやキャンセルはconnpass上でお願いします。</li>\\n<li>プログラムは変更になる可能性がございます。</li>\\n</ul>', 'address': '〒150-0002 東京都渋谷区渋谷1-17-2 ヒューリック渋谷宮下公園ビル10F', 'catch': '', 'accepted': 20, 'ended_at': '2017-12-08T21:30:00+09:00', 'place': '株式会社Rosso'}], 'results_start': 1, 'results_available': 7}\n"
          ],
          "name": "stdout"
        }
      ]
    },
    {
      "metadata": {
        "id": "fXfQ9BFnnELF",
        "colab_type": "code",
        "colab": {
          "base_uri": "https://localhost:8080/",
          "height": 3467
        },
        "outputId": "67828e1e-35e6-4de1-a694-a415586c2b1e"
      },
      "cell_type": "code",
      "source": [
        "print_str = \"{}\".format(json.dumps(data,indent=4,ensure_ascii=False))\n",
        "print(print_str)"
      ],
      "execution_count": 45,
      "outputs": [
        {
          "output_type": "stream",
          "text": [
            "{\n",
            "    \"results_returned\": 7,\n",
            "    \"events\": [\n",
            "        {\n",
            "            \"event_url\": \"https://rosso.connpass.com/event/93184/\",\n",
            "            \"event_type\": \"participation\",\n",
            "            \"owner_nickname\": \"d_harada\",\n",
            "            \"series\": {\n",
            "                \"url\": \"https://rosso.connpass.com/\",\n",
            "                \"id\": 4018,\n",
            "                \"title\": \"株式会社Rosso\"\n",
            "            },\n",
            "            \"updated_at\": \"2018-06-30T13:08:12+09:00\",\n",
            "            \"lat\": null,\n",
            "            \"started_at\": \"2018-07-25T19:30:00+09:00\",\n",
            "            \"hash_tag\": \"PHP7 #Laravel\",\n",
            "            \"title\": \"【PHP入門】開発効率向上のためのナレッジ紹介\",\n",
            "            \"event_id\": 93184,\n",
            "            \"lon\": null,\n",
            "            \"waiting\": 0,\n",
            "            \"limit\": 25,\n",
            "            \"owner_id\": 153587,\n",
            "            \"owner_display_name\": \"rosso_admin\",\n",
            "            \"description\": \"<h1>イベント説明</h1>\\n<p>Webアプリケーションの開発で幅広く使用されているPHPについて、\\n開発効率を向上させるための機能、ツール、FW(フレームワーク)などは様々なものが存在します。</p>\\n<p>本講義では、PHPの開発効率を向上させるための以下の項目についてご紹介します。（一部内容が変更となる場合がございます。）<br>\\n・静的コード解析ツールの説明<br>\\n・PHP7の新機能の説明<br>\\n・PHPUnitの説明<br>\\n・「Laravel」というFWの便利機能の説明</p>\\n<h1>対象</h1>\\n<ul>\\n<li>PHPの基本構文を理解している方。</li>\\n<li>PHPの開発環境を改善したいと考えている方。\\n※PHPUnitや静的コード解析ツールを使いこなしているなど、PHP開発における熟練者の方には物足りない内容の可能性がございますので、あらかじめご了承ください。</li>\\n</ul>\\n<h1>日時</h1>\\n<p>2018年7月25日(水) 19:30~21:00（受付 19:00～）</p>\\n<h1>会場</h1>\\n<p>〒150-0002 東京都渋谷区渋谷1-17-2 ヒューリック渋谷宮下公園ビル10F</p>\\n<p>※JR渋谷駅宮益坂出口より徒歩5分</p>\\n<p>※東京メトロ半蔵門線・副都心線13番出口より徒歩1分</p>\\n<h1>アジェンダ</h1>\\n<table>\\n<thead>\\n<tr>\\n<th align=\\\"left\\\">時間</th>\\n<th align=\\\"left\\\">内容</th>\\n</tr>\\n</thead>\\n<tbody>\\n<tr>\\n<td align=\\\"left\\\">19:00 ~ 19:30</td>\\n<td align=\\\"left\\\">受付<br> ※お名刺1枚のご提示をお願いします。</td>\\n</tr>\\n<tr>\\n<td align=\\\"left\\\">19:30 ~ 20:15</td>\\n<td align=\\\"left\\\">【PHP入門】開発効率向上のためのナレッジ紹介　<br> システムソリューション事業部技術推進室 TechLead 茂木</td>\\n</tr>\\n<tr>\\n<td align=\\\"left\\\">20:15 ~ 20:20</td>\\n<td align=\\\"left\\\">会社説明 <br>システムソリューション事業部技術推進室 GenaralManager 原田</td>\\n</tr>\\n<tr>\\n<td align=\\\"left\\\">20:20 ~ 21:00</td>\\n<td align=\\\"left\\\">懇親会（任意）　<br>同会場にて引き続き懇親会を行います。軽食とお飲み物を用意しております。</td>\\n</tr>\\n<tr>\\n<td align=\\\"left\\\">21:00</td>\\n<td align=\\\"left\\\">イベント終了・解散</td>\\n</tr>\\n</tbody>\\n</table>\\n<h1>参加費</h1>\\n<p>無料</p>\\n<h1>申込方法</h1>\\n<p>参加をご希望される方は、Connpassの応募フォームよりお申し込みください。</p>\\n<h1>注意</h1>\\n<ul>\\n<li>お問い合わせやキャンセルはconnpass上でお願いします。</li>\\n<li>プログラムは変更になる可能性がございます。</li>\\n<li>20:00を過ぎますとビルの入館が直接できなくなりますのでその場合は弊社電話番号03-6427-9037までご連絡お願いします。</li>\\n</ul>\",\n",
            "            \"address\": \"〒150-0002 東京都渋谷区渋谷1-17-2 ヒューリック渋谷宮下公園ビル10F\",\n",
            "            \"catch\": \"\",\n",
            "            \"accepted\": 11,\n",
            "            \"ended_at\": \"2018-07-25T21:00:00+09:00\",\n",
            "            \"place\": \"株式会社Rosso\"\n",
            "        },\n",
            "        {\n",
            "            \"event_url\": \"https://rosso.connpass.com/event/90002/\",\n",
            "            \"event_type\": \"participation\",\n",
            "            \"owner_nickname\": \"d_harada\",\n",
            "            \"series\": {\n",
            "                \"url\": \"https://rosso.connpass.com/\",\n",
            "                \"id\": 4018,\n",
            "                \"title\": \"株式会社Rosso\"\n",
            "            },\n",
            "            \"updated_at\": \"2018-05-31T13:54:45+09:00\",\n",
            "            \"lat\": null,\n",
            "            \"started_at\": \"2018-06-29T19:30:00+09:00\",\n",
            "            \"hash_tag\": \"機械学習 #python #AI #ML #AWS #Azure\",\n",
            "            \"title\": \"クラウドで実践！機械学習MeetUp! @渋谷 Rosso\",\n",
            "            \"event_id\": 90002,\n",
            "            \"lon\": null,\n",
            "            \"waiting\": 0,\n",
            "            \"limit\": 25,\n",
            "            \"owner_id\": 153587,\n",
            "            \"owner_display_name\": \"rosso_admin\",\n",
            "            \"description\": \"<h1>イベント説明</h1>\\n<p>AWSとAzureのML（MachineLerning）を使用し機械学習についてデモンストレーションを交えて解説いたします。\\n<br>\\nPython等の言語を使わずに機械学習を勉強したい人向けの講義内容となっています。<br>\\n本講義を通じてクラウドと機械学習の両方を学んでみませんか？</p>\\n<h1>対象</h1>\\n<ul>\\n<li>機械学習に興味があるけど、何から始めたら良いかわからない方</li>\\n<li>Pythonは苦手。。けど機械学習には興味がある方</li>\\n<li>クラウドサービスでどのようにして機械学習を実装させるのか興味がある方</li>\\n</ul>\\n<h1>日時</h1>\\n<p>2018年6月29日(金) 19:30~21:30（受付 19:00～）</p>\\n<h1>会場</h1>\\n<p>〒150-0002 東京都渋谷区渋谷1-17-2 ヒューリック渋谷宮下公園ビル10F</p>\\n<p>※JR渋谷駅宮益坂出口より徒歩5分</p>\\n<p>※東京メトロ半蔵門線・副都心線13番出口より徒歩1分</p>\\n<h1>アジェンダ</h1>\\n<table>\\n<thead>\\n<tr>\\n<th align=\\\"left\\\">時間</th>\\n<th align=\\\"left\\\">内容</th>\\n</tr>\\n</thead>\\n<tbody>\\n<tr>\\n<td align=\\\"left\\\">19:00 ~ 19:30</td>\\n<td align=\\\"left\\\">受付<br> ※お名刺1枚のご提示をお願いします。</td>\\n</tr>\\n<tr>\\n<td align=\\\"left\\\">19:30 ~ 20:30</td>\\n<td align=\\\"left\\\">クラウドで実践！機械学習　<br> システムソリューション事業部技術推進室 TechLead 小田島</td>\\n</tr>\\n<tr>\\n<td align=\\\"left\\\">20:30 ~ 20:35</td>\\n<td align=\\\"left\\\">会社説明 <br>システムソリューション事業部技術推進室 GenaralManager 原田</td>\\n</tr>\\n<tr>\\n<td align=\\\"left\\\">20:35 ~ 21:30</td>\\n<td align=\\\"left\\\">懇親会（任意）　<br>同会場にて引き続き懇親会を行います。まい泉カツサンドとお飲み物を用意しております。</td>\\n</tr>\\n<tr>\\n<td align=\\\"left\\\">21:30</td>\\n<td align=\\\"left\\\">イベント終了・解散</td>\\n</tr>\\n</tbody>\\n</table>\\n<h1>参加費</h1>\\n<p>無料</p>\\n<h1>申込方法</h1>\\n<p>参加をご希望される方は、Connpassの応募フォームよりお申し込みください。</p>\\n<h1>注意</h1>\\n<ul>\\n<li>お問い合わせやキャンセルはconnpass上でお願いします。</li>\\n<li>プログラムは変更になる可能性がございます。</li>\\n</ul>\",\n",
            "            \"address\": \"〒150-0002 東京都渋谷区渋谷1-17-2 ヒューリック渋谷宮下公園ビル10F\",\n",
            "            \"catch\": \"\",\n",
            "            \"accepted\": 16,\n",
            "            \"ended_at\": \"2018-06-29T21:30:00+09:00\",\n",
            "            \"place\": \"株式会社Rosso\"\n",
            "        },\n",
            "        {\n",
            "            \"event_url\": \"https://rosso.connpass.com/event/86890/\",\n",
            "            \"event_type\": \"participation\",\n",
            "            \"owner_nickname\": \"d_harada\",\n",
            "            \"series\": {\n",
            "                \"url\": \"https://rosso.connpass.com/\",\n",
            "                \"id\": 4018,\n",
            "                \"title\": \"株式会社Rosso\"\n",
            "            },\n",
            "            \"updated_at\": \"2018-04-30T16:50:08+09:00\",\n",
            "            \"lat\": \"35.661392200000\",\n",
            "            \"started_at\": \"2018-05-17T19:00:00+09:00\",\n",
            "            \"hash_tag\": \"Azure\",\n",
            "            \"title\": \"明日から使えるAzure @渋谷\",\n",
            "            \"event_id\": 86890,\n",
            "            \"lon\": \"139.703323200000\",\n",
            "            \"waiting\": 0,\n",
            "            \"limit\": 25,\n",
            "            \"owner_id\": 153587,\n",
            "            \"owner_display_name\": \"rosso_admin\",\n",
            "            \"description\": \"<h1>イベント説明</h1>\\n<p>今日知って、明日には業務で使える！のを目指して昨今のクラウドサービスでシェア率が高い「MicroSoft Azure」の環境構築デモを行います。開始前は「何それ？」と思う方もセミナー終了時には環境構築が可能になります。</p>\\n<p>※2017/10/12に開催したセミナーと同内容ですが一部内容変更しています。</p>\\n<h1>対象</h1>\\n<p>・これからAzureを始めてみたい方または興味のある方</p>\\n<p>・AWSは触ったことあるけどAzure未経験の方</p>\\n<p>・今後クラウドでAzureを検討している人  </p>\\n<p>・インフラエンジニアとしてご就業中の方</p>\\n<h1>日時</h1>\\n<p>2018年5/17(木)19:30~21:30（受付 19:00～）</p>\\n<h1>会場</h1>\\n<p>〒150-0002 東京都渋谷区渋谷1-17-2 ヒューリック渋谷宮下公園ビル10F</p>\\n<p>※JR渋谷駅宮益坂出口より徒歩5分</p>\\n<p>※東京メトロ半蔵門線・副都心線13番出口より徒歩1分</p>\\n<h1>アジェンダ</h1>\\n<table>\\n<thead>\\n<tr>\\n<th align=\\\"left\\\">時間</th>\\n<th align=\\\"left\\\">内容</th>\\n</tr>\\n</thead>\\n<tbody>\\n<tr>\\n<td align=\\\"left\\\">19:00 ~ 19:30</td>\\n<td align=\\\"left\\\">受付<br> ※お名刺1枚のご提示お願いします。</td>\\n</tr>\\n<tr>\\n<td align=\\\"left\\\">19:30 ~ 20:30</td>\\n<td align=\\\"left\\\">明日使えるAzure <br> システムソリューション事業部技術推進室 Tech Lead 小田島</td>\\n</tr>\\n<tr>\\n<td align=\\\"left\\\">20:30 ~ 20:35</td>\\n<td align=\\\"left\\\">会社説明 <br>常務取締役執行役員 川畑</td>\\n</tr>\\n<tr>\\n<td align=\\\"left\\\">20:35 ~ 21:30</td>\\n<td align=\\\"left\\\">懇親会（任意）　<br>同会場にて引き続き懇親会を行います。軽食とお飲み物を用意しております。</td>\\n</tr>\\n<tr>\\n<td align=\\\"left\\\">21:30</td>\\n<td align=\\\"left\\\">イベント終了・解散</td>\\n</tr>\\n</tbody>\\n</table>\\n<h1>参加費</h1>\\n<p>無料</p>\\n<h1>申込方法</h1>\\n<p>参加をご希望される方は、Connpassの応募フォームよりお申し込みください。</p>\\n<h1>注意</h1>\\n<ul>\\n<li>お問い合わせやキャンセルはconnpass上でお願いします。</li>\\n<li>プログラムは変更になる可能性がございます。</li>\\n</ul>\",\n",
            "            \"address\": \"〒150-0002 東京都渋谷区渋谷1-17-2 ヒューリック渋谷宮下公園ビル10F\",\n",
            "            \"catch\": \"～ Azure初心者歓迎！環境構築をデモします！ ～\",\n",
            "            \"accepted\": 6,\n",
            "            \"ended_at\": \"2018-05-17T21:30:00+09:00\",\n",
            "            \"place\": \"株式会社Rosso\"\n",
            "        },\n",
            "        {\n",
            "            \"event_url\": \"https://rosso.connpass.com/event/82664/\",\n",
            "            \"event_type\": \"participation\",\n",
            "            \"owner_nickname\": \"d_harada\",\n",
            "            \"series\": {\n",
            "                \"url\": \"https://rosso.connpass.com/\",\n",
            "                \"id\": 4018,\n",
            "                \"title\": \"株式会社Rosso\"\n",
            "            },\n",
            "            \"updated_at\": \"2018-04-12T14:50:10+09:00\",\n",
            "            \"lat\": null,\n",
            "            \"started_at\": \"2018-04-20T19:30:00+09:00\",\n",
            "            \"hash_tag\": \"インフラ自動化\",\n",
            "            \"title\": \"今からでも間に合う！インフラ自動化超入門！  @渋谷\",\n",
            "            \"event_id\": 82664,\n",
            "            \"lon\": null,\n",
            "            \"waiting\": 0,\n",
            "            \"limit\": 25,\n",
            "            \"owner_id\": 153587,\n",
            "            \"owner_display_name\": \"rosso_admin\",\n",
            "            \"description\": \"<h1>イベント説明</h1>\\n<p>昨今クラウドが台頭しさらにサービスの導入に拍車がかかっているインフラ自動化技術ですが</p>\\n<ul>\\n<li>自動化を導入することによって何が改善できるのか？</li>\\n<li>自動化で使われる技術はどのようなものがあるのか？</li>\\n<li>インフラを自動化するエンジニアのマインドセットとは？</li>\\n</ul>\\n<p>といった感じで登壇者の経験を交えて<strong>超初心者向け</strong>に紹介をします。<br>\\nこれからインフラ自動化技術を習得しようと考えている方取り残される前に学んでみませんか？</p>\\n<h1>対象</h1>\\n<ul>\\n<li>基本的なインフラ技術を理解している方</li>\\n<li>インフラ自動化の経験がない方</li>\\n<li>インフラ自動化をこれから導入しようとしている方</li>\\n<li>インフラ自動化に興味がある方<br>\\n※インフラ自動化の経験・知識がある方には当たり前すぎて物足りない内容かもしれませんのでご了承ください。</li>\\n</ul>\\n<h1>日時</h1>\\n<p>2018年4/20(金)19:30~21:30（受付 19:00～）</p>\\n<h1>会場</h1>\\n<p>〒150-0002 東京都渋谷区渋谷1-17-2 ヒューリック渋谷宮下公園ビル10F</p>\\n<p>※JR渋谷駅宮益坂出口より徒歩5分</p>\\n<p>※東京メトロ半蔵門線・副都心線13番出口より徒歩1分</p>\\n<h1>アジェンダ</h1>\\n<table>\\n<thead>\\n<tr>\\n<th align=\\\"left\\\">時間</th>\\n<th align=\\\"left\\\">内容</th>\\n</tr>\\n</thead>\\n<tbody>\\n<tr>\\n<td align=\\\"left\\\">19:00 ~ 19:30</td>\\n<td align=\\\"left\\\">受付<br> ※お名刺1枚のご提示お願いします。</td>\\n</tr>\\n<tr>\\n<td align=\\\"left\\\">19:30 ~ 20:30</td>\\n<td align=\\\"left\\\">インフラ自動化超入門　<br> システムソリューション事業部技術推進室　General Manager　原田</td>\\n</tr>\\n<tr>\\n<td align=\\\"left\\\">20:30 ~ 20:35</td>\\n<td align=\\\"left\\\">会社説明 <br>常務取締役執行役員　川畑</td>\\n</tr>\\n<tr>\\n<td align=\\\"left\\\">20:35 ~ 21:30</td>\\n<td align=\\\"left\\\">懇親会（任意）　<br>同会場にて引き続き懇親会を行います。軽食とお飲み物を用意しております。</td>\\n</tr>\\n<tr>\\n<td align=\\\"left\\\">21:30</td>\\n<td align=\\\"left\\\">イベント終了・解散</td>\\n</tr>\\n</tbody>\\n</table>\\n<h1>参加費</h1>\\n<p>無料</p>\\n<h1>申込方法</h1>\\n<p>参加をご希望される方は、Connpassの応募フォームよりお申し込みください。</p>\\n<h1>注意</h1>\\n<ul>\\n<li>お問い合わせやキャンセルはconnpass上でお願いします。</li>\\n<li>プログラムは変更になる可能性がございます。</li>\\n</ul>\",\n",
            "            \"address\": \"〒150-0002 東京都渋谷区渋谷1-17-2 ヒューリック渋谷宮下公園ビル10F\",\n",
            "            \"catch\": \"※3/15に開催したセミナーと同内容になります。\",\n",
            "            \"accepted\": 22,\n",
            "            \"ended_at\": \"2018-04-20T21:30:00+09:00\",\n",
            "            \"place\": \"株式会社Rosso\"\n",
            "        },\n",
            "        {\n",
            "            \"event_url\": \"https://rosso.connpass.com/event/76031/\",\n",
            "            \"event_type\": \"participation\",\n",
            "            \"owner_nickname\": \"d_harada\",\n",
            "            \"series\": {\n",
            "                \"url\": \"https://rosso.connpass.com/\",\n",
            "                \"id\": 4018,\n",
            "                \"title\": \"株式会社Rosso\"\n",
            "            },\n",
            "            \"updated_at\": \"2018-02-20T16:52:13+09:00\",\n",
            "            \"lat\": null,\n",
            "            \"started_at\": \"2018-03-15T19:30:00+09:00\",\n",
            "            \"hash_tag\": \"インフラ自動化\",\n",
            "            \"title\": \"今からでも間に合う！インフラ自動化超入門！  @渋谷\",\n",
            "            \"event_id\": 76031,\n",
            "            \"lon\": null,\n",
            "            \"waiting\": 0,\n",
            "            \"limit\": 20,\n",
            "            \"owner_id\": 153587,\n",
            "            \"owner_display_name\": \"rosso_admin\",\n",
            "            \"description\": \"<h1>イベント説明</h1>\\n<p>昨今クラウドが台頭しさらにサービスの導入に拍車がかかっているインフラ自動化技術ですが</p>\\n<ul>\\n<li>自動化を導入することによって何が改善できるのか？</li>\\n<li>自動化で使われる技術はどのようなものがあるのか？</li>\\n<li>インフラを自動化するエンジニアのマインドセットとは？</li>\\n</ul>\\n<p>といった感じで登壇者の経験を交えて<strong>超初心者向け</strong>に紹介をします。<br>\\nこれからインフラ自動化技術を習得しようと考えている方取り残される前に学んでみませんか？</p>\\n<h1>対象</h1>\\n<ul>\\n<li>基本的なインフラ技術を理解している方</li>\\n<li>インフラ自動化の経験がない方</li>\\n<li>インフラ自動化をこれから導入しようとしている方</li>\\n<li>インフラ自動化に興味がある方<br>\\n※インフラ自動化の経験・知識がある方には当たり前すぎて物足りない内容かもしれませんのでご了承ください。</li>\\n</ul>\\n<h1>日時</h1>\\n<p>2018年3月15日(木) 19:30~21:30（受付 19:00～）</p>\\n<h1>会場</h1>\\n<p>〒150-0002 東京都渋谷区渋谷1-17-2 ヒューリック渋谷宮下公園ビル10F</p>\\n<p>※JR渋谷駅宮益坂出口より徒歩5分</p>\\n<p>※東京メトロ半蔵門線・副都心線13番出口より徒歩1分</p>\\n<h1>アジェンダ</h1>\\n<table>\\n<thead>\\n<tr>\\n<th align=\\\"left\\\">時間</th>\\n<th align=\\\"left\\\">内容</th>\\n</tr>\\n</thead>\\n<tbody>\\n<tr>\\n<td align=\\\"left\\\">19:00 ~ 19:30</td>\\n<td align=\\\"left\\\">受付<br> ※お名刺1枚のご提示お願いします。</td>\\n</tr>\\n<tr>\\n<td align=\\\"left\\\">19:30 ~ 20:30</td>\\n<td align=\\\"left\\\">インフラ自動化超入門　<br> システムソリューション部　課長　原田</td>\\n</tr>\\n<tr>\\n<td align=\\\"left\\\">20:30 ~ 20:35</td>\\n<td align=\\\"left\\\">会社説明 <br>取締役執行役員　川畑</td>\\n</tr>\\n<tr>\\n<td align=\\\"left\\\">20:35 ~ 21:30</td>\\n<td align=\\\"left\\\">懇親会（任意）　<br>同会場にて引き続き懇親会を行います。軽食とお飲み物を用意しております。</td>\\n</tr>\\n<tr>\\n<td align=\\\"left\\\">21:30</td>\\n<td align=\\\"left\\\">イベント終了・解散</td>\\n</tr>\\n</tbody>\\n</table>\\n<h1>参加費</h1>\\n<p>無料</p>\\n<h1>申込方法</h1>\\n<p>参加をご希望される方は、Connpassの応募フォームよりお申し込みください。</p>\\n<h1>注意</h1>\\n<ul>\\n<li>お問い合わせやキャンセルはconnpass上でお願いします。</li>\\n<li>プログラムは変更になる可能性がございます。</li>\\n</ul>\",\n",
            "            \"address\": \"〒150-0002 東京都渋谷区渋谷1-17-2 ヒューリック渋谷宮下公園ビル10F\",\n",
            "            \"catch\": \"\",\n",
            "            \"accepted\": 16,\n",
            "            \"ended_at\": \"2018-03-15T21:30:00+09:00\",\n",
            "            \"place\": \"株式会社Rosso\"\n",
            "        },\n",
            "        {\n",
            "            \"event_url\": \"https://rosso.connpass.com/event/67050/\",\n",
            "            \"event_type\": \"participation\",\n",
            "            \"owner_nickname\": \"d_harada\",\n",
            "            \"series\": {\n",
            "                \"url\": \"https://rosso.connpass.com/\",\n",
            "                \"id\": 4018,\n",
            "                \"title\": \"株式会社Rosso\"\n",
            "            },\n",
            "            \"updated_at\": \"2017-12-03T22:48:34+09:00\",\n",
            "            \"lat\": \"35.661392200000\",\n",
            "            \"started_at\": \"2017-10-12T19:00:00+09:00\",\n",
            "            \"hash_tag\": \"Azure\",\n",
            "            \"title\": \"明日から使えるAzure\",\n",
            "            \"event_id\": 67050,\n",
            "            \"lon\": \"139.703323200000\",\n",
            "            \"waiting\": 0,\n",
            "            \"limit\": 10,\n",
            "            \"owner_id\": 153587,\n",
            "            \"owner_display_name\": \"rosso_admin\",\n",
            "            \"description\": \"<h3>■セミナー概要</h3>\\n<p>今注目されている｢Microsoft Azure｣の基本的な構築方法とリソース概要についての講義をします。\\nテーマは「明日現場で使えるAzure」になります。\\nまた当日は懇親会も予定しておりますのでお時間があるかたはこちらもご参加お願いします。</p>\\n<h3>■対象の方</h3>\\n<p>・これからAzureを始めてみたい方または興味のある方</p>\\n<p>・AWSは触ったことあるけどAzure未経験の方</p>\\n<p>・今後クラウドでAzureを検討している人  </p>\\n<p>・インフラエンジニアとしてご就業中の方</p>\\n<h3>■日時</h3>\\n<p>2017年10月12日（木）19:30～21:30（受付 19:00～）</p>\\n<h3>■場所</h3>\\n<p>〒150-0021 東京都渋谷区恵比寿西2-8-10 ORIX恵比寿西ビル4F</p>\\n<p>※JR恵比寿駅西口 徒歩5分  </p>\\n<p>※東京メトロ日比谷線恵比寿駅2番出口 徒歩4分  </p>\\n<h3>■アジェンダ</h3>\\n<table>\\n<thead>\\n<tr>\\n<th align=\\\"left\\\">時間</th>\\n<th align=\\\"left\\\">内容</th>\\n</tr>\\n</thead>\\n<tbody>\\n<tr>\\n<td align=\\\"left\\\">19:00<br>～<br>19:30</td>\\n<td align=\\\"left\\\">受付<br><strong>※お名刺1枚のご提示お願いします。</strong></td>\\n</tr>\\n<tr>\\n<td align=\\\"left\\\">19:30<br>～<br>19:35</td>\\n<td align=\\\"left\\\">会社説明<br>システムソリューション部 課長 原田 大郷</td>\\n</tr>\\n<tr>\\n<td align=\\\"left\\\">19:35 <br>～<br>21:00</td>\\n<td align=\\\"left\\\">明日使えるAzure<br>システムソリューション部 小田島 靖<br><br>今日知って、明日には業務で使える！のを目指して昨今のクラウドサービスでシェア率が高い「MicroSoft Azure」の環境構築デモを行います。開始前は「何それ？」と思う方もセミナー終了時には環境構築が可能になります。</td>\\n</tr>\\n<tr>\\n<td align=\\\"left\\\">21:00<br>～<br>21:30</td>\\n<td align=\\\"left\\\">質疑応答・懇親会<br><strong>同会場にて引き続き懇親会を行います。軽食とお飲み物を用意しております。</strong></td>\\n</tr>\\n</tbody>\\n</table>\\n<h3>■参加費</h3>\\n<p>無料  </p>\\n<h3>■申込方法</h3>\\n<p>参加をご希望される方は、Connpassの応募フォームよりお申し込みください。</p>\\n<p><strong>※お申し込みは開催日の当日までとさせていただきます。 </strong></p>\\n<p><strong>※定員に達し次第、締め切りとさせていただきます。</strong></p>\\n<h3>■当日の連絡先</h3>\\n<p>TEL：03-5459-2197  </p>\\n<h3>■諸注意</h3>\\n<p><strong>※当日以外のお問い合わせやキャンセルはconnpass上でお願い致します。</strong></p>\\n<p><strong>※プログラムは変更になる可能性がございます。</strong></p>\",\n",
            "            \"address\": \"〒150-0002 東京都渋谷区渋谷1-17-2 ヒューリック渋谷宮下公園ビル10F\",\n",
            "            \"catch\": \"～ Azure初心者歓迎！環境構築をデモします！ ～\",\n",
            "            \"accepted\": 7,\n",
            "            \"ended_at\": \"2017-10-12T21:30:00+09:00\",\n",
            "            \"place\": \"株式会社Rosso\"\n",
            "        },\n",
            "        {\n",
            "            \"event_url\": \"https://rosso.connpass.com/event/71454/\",\n",
            "            \"event_type\": \"participation\",\n",
            "            \"owner_nickname\": \"d_harada\",\n",
            "            \"series\": {\n",
            "                \"url\": \"https://rosso.connpass.com/\",\n",
            "                \"id\": 4018,\n",
            "                \"title\": \"株式会社Rosso\"\n",
            "            },\n",
            "            \"updated_at\": \"2017-12-03T22:47:16+09:00\",\n",
            "            \"lat\": null,\n",
            "            \"started_at\": \"2017-12-08T19:30:00+09:00\",\n",
            "            \"hash_tag\": \"機械学習 #python #AI\",\n",
            "            \"title\": \"機械学習超入門  @渋谷\",\n",
            "            \"event_id\": 71454,\n",
            "            \"lon\": null,\n",
            "            \"waiting\": 18,\n",
            "            \"limit\": 20,\n",
            "            \"owner_id\": 153587,\n",
            "            \"owner_display_name\": \"rosso_admin\",\n",
            "            \"description\": \"<h1>イベント説明</h1>\\n<p>これから機械学習を勉強し始める人に向け、機械学習とは何か、Pythonでどのように実装するのか、デモンストレーションを交えて紹介をします。\\n<br>\\n<br>\\n昨今、AI・機械学習の技術が飛躍的に進化し、機械学習を使った商品やサービスが注目されています。<br>\\n今までのアプリケーション開発とは何が違い、どんなことができるか？<br>\\n難しくない、すぐにできる機械学習の実装について、この機会に学んでみませんか？</p>\\n<h1>対象</h1>\\n<ul>\\n<li>機械学習やデータサイエンスに興味があるけど、何から始めたら良いかわからない方。</li>\\n<li>Pythonで機械学習を使ったアプリケーション開発に興味のある方。</li>\\n<li>機械学習の完全初心者向けのイベントです。</li>\\n</ul>\\n<h1>日時</h1>\\n<p>2017年12月8日(金) 19:30~21:30（受付 19:00～）</p>\\n<h1>会場</h1>\\n<p>〒150-0002 東京都渋谷区渋谷1-17-2 ヒューリック渋谷宮下公園ビル10F</p>\\n<p>※11/27より上記住所に移転となりますのでご注意ください！</p>\\n<p>※JR渋谷駅宮益坂出口より徒歩5分</p>\\n<p>※東京メトロ半蔵門線・副都心線13番出口より徒歩1分</p>\\n<h1>アジェンダ</h1>\\n<table>\\n<thead>\\n<tr>\\n<th align=\\\"left\\\">時間</th>\\n<th align=\\\"left\\\">内容</th>\\n</tr>\\n</thead>\\n<tbody>\\n<tr>\\n<td align=\\\"left\\\">19:00 ~ 19:30</td>\\n<td align=\\\"left\\\">受付</td>\\n</tr>\\n<tr>\\n<td align=\\\"left\\\">19:30 ~ 20:30</td>\\n<td align=\\\"left\\\">機械学習超入門　<br> システムソリューション部　石崎</td>\\n</tr>\\n<tr>\\n<td align=\\\"left\\\">20:30 ~ 20:35</td>\\n<td align=\\\"left\\\">会社説明 <br>システムソリューション部　課長　原田 大郷</td>\\n</tr>\\n<tr>\\n<td align=\\\"left\\\">20:35 ~ 21:30</td>\\n<td align=\\\"left\\\">懇親会（任意）　<br>同会場にて引き続き懇親会を行います。軽食とお飲み物を用意しております。</td>\\n</tr>\\n<tr>\\n<td align=\\\"left\\\">21:30</td>\\n<td align=\\\"left\\\">イベント終了・解散</td>\\n</tr>\\n</tbody>\\n</table>\\n<h1>参加費</h1>\\n<p>無料</p>\\n<h1>申込方法</h1>\\n<p>参加をご希望される方は、Connpassの応募フォームよりお申し込みください。</p>\\n<h1>注意</h1>\\n<ul>\\n<li>お問い合わせやキャンセルはconnpass上でお願いします。</li>\\n<li>プログラムは変更になる可能性がございます。</li>\\n</ul>\",\n",
            "            \"address\": \"〒150-0002 東京都渋谷区渋谷1-17-2 ヒューリック渋谷宮下公園ビル10F\",\n",
            "            \"catch\": \"\",\n",
            "            \"accepted\": 20,\n",
            "            \"ended_at\": \"2017-12-08T21:30:00+09:00\",\n",
            "            \"place\": \"株式会社Rosso\"\n",
            "        }\n",
            "    ],\n",
            "    \"results_start\": 1,\n",
            "    \"results_available\": 7\n",
            "}\n"
          ],
          "name": "stdout"
        }
      ]
    },
    {
      "metadata": {
        "id": "QXsYAmq2pgXN",
        "colab_type": "code",
        "colab": {}
      },
      "cell_type": "code",
      "source": [
        ""
      ],
      "execution_count": 0,
      "outputs": []
    }
  ]
}